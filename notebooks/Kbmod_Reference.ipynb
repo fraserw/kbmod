{
 "cells": [
  {
   "cell_type": "markdown",
   "metadata": {},
   "source": [
    "# KBMOD Reference  \n",
    "  \n",
    "This notebook demonstrates a gpu-accelerated image processing framework designed for image stack and time domain analysis, compatible with FITS and numpy.\n",
    "\n",
    "An example of the C++ interface can be found in search/src/kbmod.cpp"
   ]
  },
  {
   "cell_type": "markdown",
   "metadata": {},
   "source": [
    "# Setup\n",
    "Before importing, make sure to run `source setup.bash` in the root directory.  \n",
    "Also be sure you are running with python3.  "
   ]
  },
  {
   "cell_type": "code",
   "execution_count": 4,
   "metadata": {
    "collapsed": false
   },
   "outputs": [],
   "source": [
    "#everything we will need for this demo\n",
    "from kbmodpy import kbmod as kb\n",
    "import numpy as np\n",
    "import matplotlib.pyplot as plt\n",
    "import os\n",
    "path = \"../data/demo/\""
   ]
  },
  {
   "cell_type": "markdown",
   "metadata": {
    "collapsed": true
   },
   "source": [
    "\n",
    "### [psf](#psf) \n",
    "2D Point Spread Function Array  \n",
    "### [raw_image](#raw)\n",
    "2D Image array  \n",
    "\n",
    "### [layered_image](#layered) \n",
    "A Complete image represented as 3 raw_image layers (science, mask, variance)   \n",
    "\n",
    "### [image_stack](#stack)  \n",
    "Stack of layered_images, intended to be the same frame captured at different times\n",
    "\n",
    "### [stack_search](#search)  \n",
    "Searches an image_stack for a moving psf\n",
    "\n",
    "### [trajectory](#traj)\n",
    "Stores an object's position and motion through an image_stack\n"
   ]
  },
  {
   "cell_type": "markdown",
   "metadata": {},
   "source": [
    "<a id =\"psf\"></a>"
   ]
  },
  {
   "cell_type": "markdown",
   "metadata": {},
   "source": [
    "\n",
    "# psf\n",
    "A 2D psf kernel, for convolution and adding artificial sources to images  \n",
    "\n",
    "This simple constructor initializes a gaussian psf with a sigma of 1.0 pixels"
   ]
  },
  {
   "cell_type": "code",
   "execution_count": 5,
   "metadata": {
    "collapsed": false
   },
   "outputs": [],
   "source": [
    "p = kb.psf(1.0)"
   ]
  },
  {
   "cell_type": "markdown",
   "metadata": {},
   "source": [
    "The psf can be cast into a numpy array"
   ]
  },
  {
   "cell_type": "code",
   "execution_count": 6,
   "metadata": {
    "collapsed": false
   },
   "outputs": [
    {
     "data": {
      "text/plain": [
       "array([[ 0.00367206,  0.01464826,  0.02320431,  0.01464826,  0.00367206],\n",
       "       [ 0.01464826,  0.05843356,  0.09256457,  0.05843356,  0.01464826],\n",
       "       [ 0.02320431,  0.09256457,  0.14663149,  0.09256457,  0.02320431],\n",
       "       [ 0.01464826,  0.05843356,  0.09256457,  0.05843356,  0.01464826],\n",
       "       [ 0.00367206,  0.01464826,  0.02320431,  0.01464826,  0.00367206]], dtype=float32)"
      ]
     },
     "execution_count": 6,
     "metadata": {},
     "output_type": "execute_result"
    }
   ],
   "source": [
    "np.array(p)"
   ]
  },
  {
   "cell_type": "markdown",
   "metadata": {},
   "source": [
    "A psf can also be initialized or set from a numpy array, but the array must be square and have odd dimensions"
   ]
  },
  {
   "cell_type": "code",
   "execution_count": 7,
   "metadata": {
    "collapsed": false
   },
   "outputs": [
    {
     "data": {
      "text/plain": [
       "array([[ 0.      ,  0.015625,  0.0625  ],\n",
       "       [ 0.140625,  0.25    ,  0.390625],\n",
       "       [ 0.5625  ,  0.765625,  1.      ]], dtype=float32)"
      ]
     },
     "execution_count": 7,
     "metadata": {},
     "output_type": "execute_result"
    }
   ],
   "source": [
    "arr = np.linspace(0.0, 1.0, 9).reshape(3,3)\n",
    "p2 = kb.psf(arr) # initialized from array\n",
    "arr = np.square(arr)\n",
    "p2.set_array(arr) # set from array\n",
    "np.array(p2)"
   ]
  },
  {
   "cell_type": "markdown",
   "metadata": {},
   "source": [
    "There are several methods that get information about its properties"
   ]
  },
  {
   "cell_type": "code",
   "execution_count": 8,
   "metadata": {
    "collapsed": false
   },
   "outputs": [
    {
     "data": {
      "text/plain": [
       "0.975315511226654"
      ]
     },
     "execution_count": 8,
     "metadata": {},
     "output_type": "execute_result"
    }
   ],
   "source": [
    "p.get_dim() # dimension of kernel width and height\n",
    "p.get_radius() # distance from center of kernel to edge\n",
    "p.get_size() # total number of pixels in the kernel\n",
    "p.get_sum() # total sum of all pixels in the kernel, \n",
    "            #should be close to 1.0 for a normalized kernel"
   ]
  },
  {
   "cell_type": "markdown",
   "metadata": {},
   "source": [
    "<a id=\"layered\"></a>\n",
    "# layered_image\n",
    "Stores the science, mask, and variance image for a single image. The \"layered\" means it contains all of them together.  \n",
    "It can be initialized 2 ways:  \n",
    "A. Load a file"
   ]
  },
  {
   "cell_type": "code",
   "execution_count": 9,
   "metadata": {
    "collapsed": false
   },
   "outputs": [],
   "source": [
    "#im = kb.layered_image(path+\"example.fits\")"
   ]
  },
  {
   "cell_type": "markdown",
   "metadata": {},
   "source": [
    "B. Generate a new image from scratch"
   ]
  },
  {
   "cell_type": "code",
   "execution_count": 10,
   "metadata": {
    "collapsed": false
   },
   "outputs": [],
   "source": [
    "im = kb.layered_image(\"image2\", 100, 100, 5.0, 25.0, 0.0)\n",
    "# name, width, height, background_noise_sigma, variance, capture_time"
   ]
  },
  {
   "cell_type": "markdown",
   "metadata": {},
   "source": [
    "Artificial objects can easily be added into a layered_image"
   ]
  },
  {
   "cell_type": "code",
   "execution_count": 11,
   "metadata": {
    "collapsed": false
   },
   "outputs": [],
   "source": [
    "im.add_object(20.0, 35.0, 2500.0, p)\n",
    "# x, y, flux, psf"
   ]
  },
  {
   "cell_type": "markdown",
   "metadata": {},
   "source": [
    "The image pixels can be retrieved as a 2D numpy array"
   ]
  },
  {
   "cell_type": "code",
   "execution_count": 17,
   "metadata": {
    "collapsed": false
   },
   "outputs": [
    {
     "data": {
      "text/plain": [
       "array([[ 1.41452205,  1.20091569,  1.08562613, ...,  0.16255999,\n",
       "        -0.71415883, -0.77766204],\n",
       "       [ 0.2462137 , -0.14571723, -0.17865041, ...,  0.91385883,\n",
       "         0.11997563, -0.12612684],\n",
       "       [ 0.19908643, -0.26934448, -0.297548  , ...,  1.01619554,\n",
       "         0.30717701,  0.08602032],\n",
       "       ..., \n",
       "       [-0.41059819, -0.40178138, -0.25474659, ...,  0.87045324,\n",
       "         1.94920647,  2.66952872],\n",
       "       [-0.86084074, -0.22506261, -0.19994019, ...,  0.89172727,\n",
       "         1.37131238,  1.7821281 ],\n",
       "       [-1.99527967, -0.99903578, -1.02412295, ..., -0.13386457,\n",
       "         0.44371662,  1.71280479]], dtype=float32)"
      ]
     },
     "execution_count": 17,
     "metadata": {},
     "output_type": "execute_result"
    }
   ],
   "source": [
    "pixels = im.science()\n",
    "pixels"
   ]
  },
  {
   "cell_type": "markdown",
   "metadata": {},
   "source": [
    "The image can mask itself by providing a bitmask of flags (note: masked pixels are set to -9999 so they can be distinguished later from 0.0 pixles)"
   ]
  },
  {
   "cell_type": "code",
   "execution_count": 18,
   "metadata": {
    "collapsed": false
   },
   "outputs": [],
   "source": [
    "flags = ~0\n",
    "flag_exceptions = [32,39]\n",
    "# mask all of pixels with flags except those with specifed combiniations\n",
    "im.apply_mask_flags( flags, flag_exceptions ) "
   ]
  },
  {
   "cell_type": "markdown",
   "metadata": {},
   "source": [
    "The image can be convolved with a psf kernel"
   ]
  },
  {
   "cell_type": "code",
   "execution_count": 19,
   "metadata": {
    "collapsed": true
   },
   "outputs": [],
   "source": [
    "im.convolve(p)\n",
    "# note: This function is called interally by stack_search and doesn't need to be\n",
    "# used directy. It is only exposed because it happens to be a fast \n",
    "# implementation of a generally useful function"
   ]
  },
  {
   "cell_type": "markdown",
   "metadata": {},
   "source": [
    "The image at any point can be saved to a file"
   ]
  },
  {
   "cell_type": "code",
   "execution_count": 20,
   "metadata": {
    "collapsed": false
   },
   "outputs": [],
   "source": [
    "#im.save_layers(path+\"/out\") # file will use original name"
   ]
  },
  {
   "cell_type": "markdown",
   "metadata": {},
   "source": [
    "A layered_image can have its layers set from any numpy array"
   ]
  },
  {
   "cell_type": "code",
   "execution_count": 33,
   "metadata": {
    "collapsed": true
   },
   "outputs": [],
   "source": [
    "raw = kb.raw_image( np.ones_like(pixels) )"
   ]
  },
  {
   "cell_type": "code",
   "execution_count": 35,
   "metadata": {
    "collapsed": false
   },
   "outputs": [
    {
     "data": {
      "text/plain": [
       "array([[ 1.,  1.,  1., ...,  1.,  1.,  1.],\n",
       "       [ 1.,  1.,  1., ...,  1.,  1.,  1.],\n",
       "       [ 1.,  1.,  1., ...,  1.,  1.,  1.],\n",
       "       ..., \n",
       "       [ 1.,  1.,  1., ...,  1.,  1.,  1.],\n",
       "       [ 1.,  1.,  1., ...,  1.,  1.,  1.],\n",
       "       [ 1.,  1.,  1., ...,  1.,  1.,  1.]], dtype=float32)"
      ]
     },
     "execution_count": 35,
     "metadata": {},
     "output_type": "execute_result"
    }
   ],
   "source": [
    "im.set_science( raw )\n",
    "im.set_variance( raw )\n",
    "im.science()"
   ]
  },
  {
   "cell_type": "markdown",
   "metadata": {},
   "source": [
    "Get properties"
   ]
  },
  {
   "cell_type": "code",
   "execution_count": 16,
   "metadata": {
    "collapsed": false
   },
   "outputs": [
    {
     "data": {
      "text/plain": [
       "10000"
      ]
     },
     "execution_count": 16,
     "metadata": {},
     "output_type": "execute_result"
    }
   ],
   "source": [
    "im.get_width()\n",
    "im.get_height()\n",
    "im.get_time()\n",
    "im.get_ppi() # pixels per image, width*height"
   ]
  },
  {
   "cell_type": "markdown",
   "metadata": {},
   "source": [
    "<a id=\"stack\"></a>\n",
    "# image_stack\n",
    "A collection of layered_images. Used to apply operations to a group of images.  "
   ]
  },
  {
   "cell_type": "code",
   "execution_count": 14,
   "metadata": {
    "collapsed": false
   },
   "outputs": [],
   "source": [
    "count = 10\n",
    "imlist = [ kb.layered_image(\"img\"+str(n), 50, 50, 10.0, 5.0, n/count) for n in range(count) ]\n",
    "stack = kb.image_stack( imlist )\n",
    "# this creates a stack with 10 50x50 images, and times ranging from 0 to 1"
   ]
  },
  {
   "cell_type": "markdown",
   "metadata": {},
   "source": [
    "Manually set the times the images in the stack were taken "
   ]
  },
  {
   "cell_type": "code",
   "execution_count": 15,
   "metadata": {
    "collapsed": true
   },
   "outputs": [],
   "source": [
    "stack.set_times( [0,2,3,4.5,5,6,7,10,11,14] )"
   ]
  },
  {
   "cell_type": "markdown",
   "metadata": {},
   "source": [
    "A shortcut is provided to initialize a stack automatically from a list of files. If 'MJD' is in the header for each image, the stack will automatically load the times as well. If not, you can set them as above."
   ]
  },
  {
   "cell_type": "code",
   "execution_count": 16,
   "metadata": {
    "collapsed": false
   },
   "outputs": [
    {
     "data": {
      "text/plain": [
       "['../data/demo/CORR40535777.fits',\n",
       " '../data/demo/CORR40535787.fits',\n",
       " '../data/demo/CORR40535797.fits',\n",
       " '../data/demo/CORR40535807.fits',\n",
       " '../data/demo/CORR40535817.fits']"
      ]
     },
     "execution_count": 16,
     "metadata": {},
     "output_type": "execute_result"
    }
   ],
   "source": [
    "import os\n",
    "files = os.listdir(path)\n",
    "files = [path+f for f in files if '.fits' in f]\n",
    "files.sort()\n",
    "files"
   ]
  },
  {
   "cell_type": "code",
   "execution_count": 17,
   "metadata": {
    "collapsed": false
   },
   "outputs": [],
   "source": [
    "stack = kb.image_stack(files)"
   ]
  },
  {
   "cell_type": "markdown",
   "metadata": {},
   "source": [
    "A master mask can be generated and applied to the stack"
   ]
  },
  {
   "cell_type": "code",
   "execution_count": 18,
   "metadata": {
    "collapsed": false
   },
   "outputs": [],
   "source": [
    "flags = ~0 # mask pixels with any flags\n",
    "flag_exceptions = [32,39] # unless it has one of these special combinations of flags\n",
    "master_flags = int('100111', 2) # mask any pixels which have any of \n",
    "# these flags in more than two images"
   ]
  },
  {
   "cell_type": "markdown",
   "metadata": {},
   "source": [
    "Most features of the layered_image can be used on the whole stack"
   ]
  },
  {
   "cell_type": "code",
   "execution_count": 19,
   "metadata": {
    "collapsed": false
   },
   "outputs": [
    {
     "data": {
      "text/plain": [
       "[0.0,\n",
       " 0.0030539999715983868,\n",
       " 0.006087000016123056,\n",
       " 0.00913199968636036,\n",
       " 0.012175999581813812]"
      ]
     },
     "execution_count": 19,
     "metadata": {},
     "output_type": "execute_result"
    }
   ],
   "source": [
    "stack.apply_mask_flags(flags, flag_exceptions)\n",
    "stack.apply_master_mask(master_flags, 2)\n",
    "stack.convolve(p)\n",
    "stack.get_width()\n",
    "stack.get_height()\n",
    "stack.get_ppi()\n",
    "stack.get_images() # retrieves list of layered_images back from the stack\n",
    "stack.get_times()"
   ]
  },
  {
   "cell_type": "markdown",
   "metadata": {},
   "source": [
    "Here, we will create a very bright object and add it to the images and create a new image stack with the new object."
   ]
  },
  {
   "cell_type": "code",
   "execution_count": 20,
   "metadata": {
    "collapsed": false
   },
   "outputs": [],
   "source": [
    "im_list = stack.get_images()"
   ]
  },
  {
   "cell_type": "code",
   "execution_count": 21,
   "metadata": {
    "collapsed": false
   },
   "outputs": [],
   "source": [
    "new_im_list = []\n",
    "for im, time in zip(im_list, stack.get_times()):\n",
    "    im.add_object(20.0+(time*800.), 35.0+(time*0.), 25000.0, p)\n",
    "    new_im_list.append(im)"
   ]
  },
  {
   "cell_type": "code",
   "execution_count": 22,
   "metadata": {
    "collapsed": true
   },
   "outputs": [],
   "source": [
    "stack = kb.image_stack(new_im_list)"
   ]
  },
  {
   "cell_type": "markdown",
   "metadata": {},
   "source": [
    "<a id=\"search\"></a>\n",
    "# stack_search\n",
    "Searches a stack of images for a given psf"
   ]
  },
  {
   "cell_type": "code",
   "execution_count": 23,
   "metadata": {
    "collapsed": true
   },
   "outputs": [],
   "source": [
    "search = kb.stack_search( stack, p )"
   ]
  },
  {
   "cell_type": "markdown",
   "metadata": {},
   "source": [
    "To save psi and images, a directory with \"psi\" and \"phi\" folders must be specified."
   ]
  },
  {
   "cell_type": "code",
   "execution_count": 24,
   "metadata": {
    "collapsed": false
   },
   "outputs": [],
   "source": [
    "if os.path.exists(os.path.join(path,'out/psi')) is False:\n",
    "    os.mkdir(os.path.join(path,'out/psi'))\n",
    "    \n",
    "if os.path.exists(os.path.join(path,'out/phi')) is False:\n",
    "    os.mkdir(os.path.join(path,'out/phi'))\n",
    "\n",
    "search.save_psi_phi(os.path.join(path, 'out'))"
   ]
  },
  {
   "cell_type": "markdown",
   "metadata": {},
   "source": [
    "Launch a search"
   ]
  },
  {
   "cell_type": "code",
   "execution_count": 25,
   "metadata": {
    "collapsed": false
   },
   "outputs": [],
   "source": [
    "#search.gpu(100, 100, 0.2, 0.4, 750, 850, 2)\n",
    "search.gpu(10, 10, -0.1, 0.1, 750, 850, 2)\n",
    "# angle_steps, velocity_steps, min_angle, max_angle, min_velocity, max_velocity, min_observations"
   ]
  },
  {
   "cell_type": "markdown",
   "metadata": {},
   "source": [
    "Save the results to a files  \n",
    "note: format is {x, y, xv, yv, likelihood, flux}"
   ]
  },
  {
   "cell_type": "code",
   "execution_count": 26,
   "metadata": {
    "collapsed": true
   },
   "outputs": [],
   "source": [
    "search.save_results(path+\"results.txt\", 0.05) \n",
    "# path, fraction of total results to save in file"
   ]
  },
  {
   "cell_type": "markdown",
   "metadata": {},
   "source": [
    "Trajectories can be retrieved directly from search without writing and reading to file.  \n",
    "However, this is not recommended for a large number of trajectories, as it is not returned as a numpy array, but as a list of the trajectory objects described below"
   ]
  },
  {
   "cell_type": "code",
   "execution_count": 27,
   "metadata": {
    "collapsed": true
   },
   "outputs": [],
   "source": [
    "top_results = search.get_results(0, 100)\n",
    "# start, count"
   ]
  },
  {
   "cell_type": "markdown",
   "metadata": {},
   "source": [
    "<a id=\"traj\"></a>\n",
    "# trajectory\n",
    "A simple container with properties representing an object and its path"
   ]
  },
  {
   "cell_type": "code",
   "execution_count": 28,
   "metadata": {
    "collapsed": true
   },
   "outputs": [],
   "source": [
    "best = top_results[0]"
   ]
  },
  {
   "cell_type": "code",
   "execution_count": 29,
   "metadata": {
    "collapsed": false
   },
   "outputs": [
    {
     "data": {
      "text/plain": [
       "-82.86174011230469"
      ]
     },
     "execution_count": 29,
     "metadata": {},
     "output_type": "execute_result"
    }
   ],
   "source": [
    "# these numbers are wild because mask flags and search parameters above were chosen randomly\n",
    "best.flux \n",
    "best.lh\n",
    "best.x\n",
    "best.y\n",
    "best.x_v\n",
    "best.y_v"
   ]
  },
  {
   "cell_type": "markdown",
   "metadata": {},
   "source": [
    "tests/test_search.py shows a simple example of how to generate a set of images, add an artificial source, and recover it with search"
   ]
  },
  {
   "cell_type": "code",
   "execution_count": 30,
   "metadata": {
    "collapsed": false
   },
   "outputs": [
    {
     "data": {
      "text/plain": [
       "[lh: 941.987000 flux: 21225.396484 x: 19 y: 35 x_v: 825.853455 y_v: -82.861740 obs_count: 5,\n",
       " lh: 941.987000 flux: 21225.396484 x: 19 y: 35 x_v: 835.803528 y_v: -83.860069 obs_count: 5,\n",
       " lh: 941.987000 flux: 21225.396484 x: 19 y: 35 x_v: 827.345398 y_v: -66.329193 obs_count: 5,\n",
       " lh: 941.987000 flux: 21225.396484 x: 19 y: 35 x_v: 837.313416 y_v: -67.128342 obs_count: 5,\n",
       " lh: 941.960388 flux: 21226.257812 x: 19 y: 34 x_v: 827.345398 y_v: 66.329185 obs_count: 5,\n",
       " lh: 941.960388 flux: 21226.257812 x: 19 y: 34 x_v: 837.313416 y_v: 67.128334 obs_count: 5,\n",
       " lh: 941.794128 flux: 21220.515625 x: 19 y: 34 x_v: 838.488464 y_v: 50.369762 obs_count: 5,\n",
       " lh: 941.794128 flux: 21220.515625 x: 19 y: 34 x_v: 828.506470 y_v: 49.770123 obs_count: 5,\n",
       " lh: 931.414917 flux: 20985.867188 x: 20 y: 35 x_v: 746.253113 y_v: -74.875061 obs_count: 5,\n",
       " lh: 931.414917 flux: 20985.867188 x: 20 y: 35 x_v: 756.203186 y_v: -75.873398 obs_count: 5,\n",
       " lh: 931.414917 flux: 20985.867188 x: 20 y: 35 x_v: 766.153198 y_v: -76.871735 obs_count: 5,\n",
       " lh: 931.414917 flux: 20985.867188 x: 20 y: 35 x_v: 776.103271 y_v: -77.870064 obs_count: 5,\n",
       " lh: 931.380676 flux: 20988.455078 x: 20 y: 34 x_v: 757.569275 y_v: 60.735161 obs_count: 5,\n",
       " lh: 931.380676 flux: 20988.455078 x: 20 y: 34 x_v: 767.537292 y_v: 61.534306 obs_count: 5,\n",
       " lh: 931.380676 flux: 20988.455078 x: 20 y: 34 x_v: 777.505310 y_v: 62.333454 obs_count: 5,\n",
       " lh: 931.380676 flux: 20988.455078 x: 20 y: 34 x_v: 747.601257 y_v: 59.936012 obs_count: 5,\n",
       " lh: 754.681458 flux: 17003.689453 x: 19 y: 33 x_v: 837.313416 y_v: 67.128334 obs_count: 5,\n",
       " lh: 754.681458 flux: 17003.689453 x: 19 y: 33 x_v: 827.345398 y_v: 66.329185 obs_count: 5,\n",
       " lh: 747.403381 flux: 16838.832031 x: 20 y: 33 x_v: 747.601257 y_v: 59.936012 obs_count: 5,\n",
       " lh: 747.403381 flux: 16838.832031 x: 20 y: 33 x_v: 757.569275 y_v: 60.735161 obs_count: 5]"
      ]
     },
     "execution_count": 30,
     "metadata": {},
     "output_type": "execute_result"
    }
   ],
   "source": [
    "# These top_results are all be duplicating searches on the same bright object we added.\n",
    "top_results[:20]"
   ]
  },
  {
   "cell_type": "markdown",
   "metadata": {
    "collapsed": true
   },
   "source": [
    "# Demo"
   ]
  },
  {
   "cell_type": "code",
   "execution_count": null,
   "metadata": {
    "collapsed": true
   },
   "outputs": [],
   "source": []
  }
 ],
 "metadata": {
  "kernelspec": {
   "display_name": "Python 3",
   "language": "python",
   "name": "python3"
  },
  "language_info": {
   "codemirror_mode": {
    "name": "ipython",
    "version": 3
   },
   "file_extension": ".py",
   "mimetype": "text/x-python",
   "name": "python",
   "nbconvert_exporter": "python",
   "pygments_lexer": "ipython3",
   "version": "3.5.2"
  }
 },
 "nbformat": 4,
 "nbformat_minor": 2
}
