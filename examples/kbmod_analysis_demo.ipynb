{
 "cells": [
  {
   "cell_type": "markdown",
   "metadata": {},
   "source": [
    "# KBMod Analysis Demo"
   ]
  },
  {
   "cell_type": "markdown",
   "metadata": {},
   "source": [
    "To run an example of kbmod from start to finish you can use the following steps:\n",
    "\n",
    "1) Setup `kbmod` with the `setup.bash` file in the main directory of the repo by: `source setup.bash`\n",
    "\n",
    "2) Run `example_search.py` with the following settings:\n",
    "\n",
    "  * **image_dir**: The directory with the images from a single field\n",
    "    \n",
    "  * **results_dir**: The directory where you want to save the results\n",
    "    \n",
    "  * **results_suffix**: Suffix to add when saving results files. Setting this as `test` then files will be saved as \"..._test.txt\". Five results files would be saved:\n",
    "      * `lc_test.txt`: File with the light curves from results after going through Kalman Filter.\n",
    "      * `results_test.txt`: File with the x,y pixel locations, velocity, flux, likelihood, and number of unmasked observations of each result.\n",
    "      * `ps_test.txt`: File with the summed postage stamp for each result.\n",
    "      * `times_test.txt`: File with the MJD of each observation in the saved lightcurve.\n",
    "      * `filtered_likes_test.txt`: The recalculated likelihood values for each results after removing observations with the Kalman Filter.\n",
    "  * **time_file**: Location of a file with each row containing (visit_num, visit_mjd) for observations in dataset.\n",
    "    \n",
    "3) Command will be like the following:\n",
    "\n",
    "```\n",
    "python3 example_search.py --image_dir image_dir --results_dir results_dir --results_suffix test --time_file image_times.dat\n",
    "```\n",
    "\n",
    "4) Once you have the results you can use the steps in this notebook to create plots with postage stamps and lightcurves side-by-side for a final look by eye."
   ]
  },
  {
   "cell_type": "code",
   "execution_count": 1,
   "metadata": {
    "collapsed": true
   },
   "outputs": [],
   "source": [
    "import os\n",
    "import matplotlib.pyplot as plt\n",
    "%matplotlib inline"
   ]
  },
  {
   "cell_type": "code",
   "execution_count": 2,
   "metadata": {
    "collapsed": false
   },
   "outputs": [],
   "source": [
    "from create_stamps import create_stamps"
   ]
  },
  {
   "cell_type": "code",
   "execution_count": 3,
   "metadata": {
    "collapsed": false
   },
   "outputs": [],
   "source": [
    "# Directory where output from kbmod search are located\n",
    "results_dir = '/home/kbmod-usr/cuda-workspace/HITS/clean_setup/results_dir/'"
   ]
  },
  {
   "cell_type": "code",
   "execution_count": 4,
   "metadata": {
    "collapsed": true
   },
   "outputs": [],
   "source": [
    "stamper = create_stamps()"
   ]
  },
  {
   "cell_type": "code",
   "execution_count": 5,
   "metadata": {
    "collapsed": false
   },
   "outputs": [],
   "source": [
    "lc_filename = os.path.join(results_dir, 'lc_test.txt')\n",
    "lc_list = stamper.load_lightcurves(lc_filename)"
   ]
  },
  {
   "cell_type": "code",
   "execution_count": 6,
   "metadata": {
    "collapsed": false
   },
   "outputs": [],
   "source": [
    "stamp_filename = os.path.join(results_dir, 'ps_test.txt')\n",
    "stamps = stamper.load_stamps(stamp_filename)"
   ]
  },
  {
   "cell_type": "code",
   "execution_count": 7,
   "metadata": {
    "collapsed": false
   },
   "outputs": [],
   "source": [
    "result_filename = os.path.join(results_dir, 'results_test.txt')\n",
    "results = stamper.load_results(result_filename)"
   ]
  },
  {
   "cell_type": "code",
   "execution_count": 8,
   "metadata": {
    "collapsed": false
   },
   "outputs": [
    {
     "name": "stdout",
     "output_type": "stream",
     "text": [
      "Center filtering keeps 1 out of 17 stamps.\n"
     ]
    },
    {
     "data": {
      "image/png": "[encoded data removed]",
      "text/plain": [
       "<matplotlib.figure.Figure at 0x7f504970f1d0>"
      ]
     },
     "metadata": {},
     "output_type": "display_data"
    }
   ],
   "source": [
    "stamps_fig = stamper.plot_stamps(results, lc_list, stamps, 0.03)"
   ]
  },
  {
   "cell_type": "code",
   "execution_count": null,
   "metadata": {
    "collapsed": true
   },
   "outputs": [],
   "source": []
  }
 ],
 "metadata": {
  "anaconda-cloud": {},
  "kernelspec": {
   "display_name": "Python 3",
   "language": "python",
   "name": "python3"
  },
  "language_info": {
   "codemirror_mode": {
    "name": "ipython",
    "version": 3
   },
   "file_extension": ".py",
   "mimetype": "text/x-python",
   "name": "python",
   "nbconvert_exporter": "python",
   "pygments_lexer": "ipython3",
   "version": "3.5.2"
  }
 },
 "nbformat": 4,
 "nbformat_minor": 2
}
